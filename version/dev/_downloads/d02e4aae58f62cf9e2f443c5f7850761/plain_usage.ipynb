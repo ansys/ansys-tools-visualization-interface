{
  "cells": [
    {
      "cell_type": "markdown",
      "metadata": {},
      "source": [
        "\n\n# Use the plotter\n\nThis example shows how to add one or more meshes to the plotter.\n"
      ]
    },
    {
      "cell_type": "markdown",
      "metadata": {},
      "source": [
        "## Add a mesh to the plotter\nThis code shows how to add a single mesh to the plotter.\n\n"
      ]
    },
    {
      "cell_type": "code",
      "execution_count": null,
      "metadata": {
        "collapsed": false
      },
      "outputs": [],
      "source": [
        "import pyvista as pv\n\nfrom ansys.tools.visualization_interface import Plotter\n\nmesh = pv.Cube()\n\n# Create a plotter\npl = Plotter()\n\n# Add the mesh to the plotter\npl.plot(mesh)\n\n# Show the plotter\npl.show()"
      ]
    },
    {
      "cell_type": "markdown",
      "metadata": {},
      "source": [
        "## Getting a screenshot\nNow we will check how to get a screenshot from our plotter.\n\n"
      ]
    },
    {
      "cell_type": "code",
      "execution_count": null,
      "metadata": {
        "collapsed": false
      },
      "outputs": [],
      "source": [
        "import pyvista as pv\n\nfrom ansys.tools.visualization_interface import Plotter\n\nmesh = pv.Cube()\n\n# Create a plotter\npl = Plotter()\n\n# Add the mesh to the plotter\npl.plot(mesh)\n\n# Show the plotter\npl.show()"
      ]
    },
    {
      "cell_type": "markdown",
      "metadata": {},
      "source": [
        "## Add a list of meshes\nThis code shows how to add a list of meshes to the plotter.\n\n"
      ]
    },
    {
      "cell_type": "code",
      "execution_count": null,
      "metadata": {
        "collapsed": false
      },
      "outputs": [],
      "source": [
        "import pyvista as pv\n\nfrom ansys.tools.visualization_interface import Plotter\n\nmesh1 = pv.Cube()\nmesh2 = pv.Sphere(center=(2, 0, 0))\nmesh_list = [mesh1, mesh2]\n# Create a plotter\npl = Plotter()\n\n# Add a list of meshes to the plotter\npl.plot(mesh_list)\n\n# Show the plotter\npl.show()"
      ]
    }
  ],
  "metadata": {
    "kernelspec": {
      "display_name": "Python 3",
      "language": "python",
      "name": "python3"
    },
    "language_info": {
      "codemirror_mode": {
        "name": "ipython",
        "version": 3
      },
      "file_extension": ".py",
      "mimetype": "text/x-python",
      "name": "python",
      "nbconvert_exporter": "python",
      "pygments_lexer": "ipython3",
      "version": "3.13.7"
    }
  },
  "nbformat": 4,
  "nbformat_minor": 0
}