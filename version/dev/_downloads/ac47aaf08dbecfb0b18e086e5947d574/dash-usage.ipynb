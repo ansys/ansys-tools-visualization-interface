{
  "cells": [
    {
      "cell_type": "markdown",
      "metadata": {},
      "source": [
        "\n\n# Plain usage of the plotly dash backend\n\nThis example shows the plain usage of the Plotly Dash backend in the Visualization Interface Tool to plot different objects,\nincluding PyVista meshes, custom objects, and Plotly-specific objects.\n"
      ]
    },
    {
      "cell_type": "code",
      "execution_count": null,
      "metadata": {
        "collapsed": false
      },
      "outputs": [],
      "source": [
        "from ansys.tools.visualization_interface.backends.plotly.plotly_dash import PlotlyDashBackend\nfrom ansys.tools.visualization_interface.types.mesh_object_plot import MeshObjectPlot\nfrom ansys.tools.visualization_interface import Plotter\nimport pyvista as pv\nfrom plotly.graph_objects import Mesh3d\n\n\n# Create a plotter with the Plotly backend\npl = Plotter(backend=PlotlyDashBackend())\n\n# Create a PyVista mesh\nmesh = pv.Sphere()\nmesh2 = pv.Cube(center=(2,0,0))\n# Plot the mesh\npl.plot(mesh, name=\"Sphere\")\npl.plot(mesh2, name=\"Cube\")\n\n# ----------------------------------\n# Start the server and show the plot\n# ----------------------------------\n#\n# .. code-block:: python\n#\n#     pl.show()"
      ]
    }
  ],
  "metadata": {
    "kernelspec": {
      "display_name": "Python 3",
      "language": "python",
      "name": "python3"
    },
    "language_info": {
      "codemirror_mode": {
        "name": "ipython",
        "version": 3
      },
      "file_extension": ".py",
      "mimetype": "text/x-python",
      "name": "python",
      "nbconvert_exporter": "python",
      "pygments_lexer": "ipython3",
      "version": "3.13.7"
    }
  },
  "nbformat": 4,
  "nbformat_minor": 0
}