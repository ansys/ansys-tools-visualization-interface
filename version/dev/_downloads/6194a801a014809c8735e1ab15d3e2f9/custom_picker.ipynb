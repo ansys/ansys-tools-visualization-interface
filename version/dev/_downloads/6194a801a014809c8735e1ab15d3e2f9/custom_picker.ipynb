{
  "cells": [
    {
      "cell_type": "markdown",
      "metadata": {},
      "source": [
        "\n\n# Create custom picker\n\nThis example shows how to create a custom picker. In this case we will show how the default\npicker is implemented through the ``AbstractPicker`` class.\n"
      ]
    },
    {
      "cell_type": "markdown",
      "metadata": {},
      "source": [
        "## Import the ``AbstractPicker`` class\n\n"
      ]
    },
    {
      "cell_type": "code",
      "execution_count": null,
      "metadata": {
        "collapsed": false
      },
      "outputs": [],
      "source": [
        "# Import the abstract picker class\nfrom ansys.tools.visualization_interface.backends.pyvista.picker import AbstractPicker\n\n# Import custom object meshes\nfrom ansys.tools.visualization_interface.types.mesh_object_plot import MeshObjectPlot\n\n# Import plotter and color enum\nfrom ansys.tools.visualization_interface import Plotter\nfrom ansys.tools.visualization_interface.utils.color import Color"
      ]
    },
    {
      "cell_type": "markdown",
      "metadata": {},
      "source": [
        "## Create a custom picker class\n\n"
      ]
    },
    {
      "cell_type": "code",
      "execution_count": null,
      "metadata": {
        "collapsed": false
      },
      "outputs": [],
      "source": [
        "class CustomPicker(AbstractPicker):\n    \"\"\"Custom picker class that extends the AbstractPicker.\n    This custom picker changes the color of picked objects to red and adds a label with the object's name.\n    It also adds a label when hovering over an object.\n\n    Parameters\n    ----------\n    plotter_backend : Plotter\n        The plotter backend to use.\n    plot_picked_names : bool, optional\n        Whether to plot the names of picked objects, by default True.\n    label : str, optional\n        Extra parameter to exemplify the usage of custom parameters.\n    \"\"\"\n    def __init__(self, plotter_backend: \"Plotter\", plot_picked_names: bool = True, label: str = \"This label: \") -> None:\n        \"\"\"Initialize the ``Picker`` class.\"\"\"\n        # Picking variables\n        self._plotter_backend = plotter_backend\n        self._plot_picked_names = plot_picked_names\n        self._label = label\n\n        # Map that relates PyVista actors with the added actors by the picker\n        self._picker_added_actors_map = {}\n\n        # Dictionary of picked objects in MeshObject format.\n        self._picked_dict = {}\n\n        # Map that saves original colors of the plotted objects.\n        self._origin_colors = {}\n\n        # Hovering variables\n        self._added_hover_labels = []\n\n    def pick_select_object(self, custom_object: MeshObjectPlot, pt: \"np.ndarray\") -> None:\n        \"\"\"Add actor to picked list and add label if required.\n\n        Parameters\n        ----------\n        custom_object : MeshObjectPlot\n            The object to be selected.\n        pt : np.ndarray\n            The point where the object was picked.\n        \"\"\"\n        added_actors = []\n\n        # Pick only custom objects\n        if isinstance(custom_object, MeshObjectPlot):\n            self._origin_colors[custom_object] = custom_object.actor.prop.color\n            custom_object.actor.prop.color = Color.PICKED.value\n\n        # Get the name for the text label\n        text = custom_object.name\n\n        # If picking names is enabled, add a label to the picked object\n        if self._plot_picked_names:\n            label_actor = self._plotter_backend.pv_interface.scene.add_point_labels(\n                [pt],\n                [self._label + text],\n                always_visible=True,\n                point_size=0,\n                render_points_as_spheres=False,\n                show_points=False,\n            )\n            # Add the label actor to the list of added actors\n            added_actors.append(label_actor)\n\n        # Add the picked object to the picked dictionary if not already present, to keep track of it\n        if custom_object.name not in self._picked_dict:\n            self._picked_dict[custom_object.name] = custom_object\n        # Add the picked object to the picked dictionary if not already present, to keep track of it\n        self._picker_added_actors_map[custom_object.actor.name] = added_actors\n\n    def pick_unselect_object(self, custom_object: MeshObjectPlot) -> None:\n        \"\"\"Remove actor from picked list and remove label if required.\n\n        Parameters\n        ----------\n        custom_object : MeshObjectPlot\n            The object to be unselected.\n        \"\"\"\n        # remove actor from picked list and from scene\n        if custom_object.name in self._picked_dict:\n            self._picked_dict.pop(custom_object.name)\n\n        # Restore original color if it was changed\n        if isinstance(custom_object, MeshObjectPlot) and custom_object in self._origin_colors:\n            custom_object.actor.prop.color = self._origin_colors[custom_object]\n\n        # Remove any added actors (like labels) associated with this picked object\n        if custom_object.actor.name in self._picker_added_actors_map:\n            self._plotter_backend._pl.scene.remove_actor(self._picker_added_actors_map[custom_object.actor.name])\n            self._picker_added_actors_map.pop(custom_object.actor.name)\n\n    def hover_select_object(self, custom_object: MeshObjectPlot, actor: \"Actor\") -> None:\n        \"\"\"Add label to hovered object if required.\n\n        Parameters\n        ----------\n        custom_object : MeshObjectPlot\n            The object to be hovered over.\n        actor : vtkActor\n            The actor corresponding to the hovered object.\n        \"\"\"\n        for label in self._added_hover_labels:\n            self._plotter_backend._pl.scene.remove_actor(label)\n        label_actor = self._plotter_backend._pl.scene.add_point_labels(\n            [actor.GetCenter()],\n            [custom_object.name],\n            always_visible=True,\n            point_size=0,\n            render_points_as_spheres=False,\n            show_points=False,\n        )\n        self._added_hover_labels.append(label_actor)\n\n    def hover_unselect_object(self):\n        \"\"\"Remove all hover labels from the scene.\"\"\"\n        for label in self._added_hover_labels:\n            self._plotter_backend._pl.scene.remove_actor(label)\n\n    @property\n    def picked_dict(self) -> dict:\n        \"\"\"Return the dictionary of picked objects.\n\n        Returns\n        -------\n        dict\n            Dictionary of picked objects.\n        \"\"\"\n        return self._picked_dict"
      ]
    },
    {
      "cell_type": "markdown",
      "metadata": {},
      "source": [
        "## Initialize the plotter backend with the custom picker\n\n"
      ]
    },
    {
      "cell_type": "code",
      "execution_count": null,
      "metadata": {
        "collapsed": false
      },
      "outputs": [],
      "source": [
        "from ansys.tools.visualization_interface.backends.pyvista import PyVistaBackend\npl_backend = PyVistaBackend(allow_picking=True, custom_picker=CustomPicker)"
      ]
    },
    {
      "cell_type": "markdown",
      "metadata": {},
      "source": [
        "## Create a custom object with a name to be picked\n\n"
      ]
    },
    {
      "cell_type": "code",
      "execution_count": null,
      "metadata": {
        "collapsed": false
      },
      "outputs": [],
      "source": [
        "import pyvista as pv\n\nclass CustomObject:\n    def __init__(self):\n        self.name = \"CustomObject\"\n        self.mesh = pv.Cube(center=(1, 1, 0))\n\n    def get_mesh(self):\n        return self.mesh\n\n    def name(self):\n        return self.name\n\n# Create a custom object\ncustom_cube = CustomObject()\ncustom_cube.name = \"CustomCube\""
      ]
    },
    {
      "cell_type": "markdown",
      "metadata": {},
      "source": [
        "## Create a ``MeshObjectPlot`` instance\n\n"
      ]
    },
    {
      "cell_type": "code",
      "execution_count": null,
      "metadata": {
        "collapsed": false
      },
      "outputs": [],
      "source": [
        "from ansys.tools.visualization_interface import MeshObjectPlot\n# Create an instance\nmesh_object_cube = MeshObjectPlot(custom_cube, custom_cube.get_mesh())"
      ]
    },
    {
      "cell_type": "markdown",
      "metadata": {},
      "source": [
        "## Display the plotter and interact with the object\n```python\npl = Plotter(backend=pl_backend)\npl.plot(mesh_object_cube)\npl.show()\n```\n"
      ]
    }
  ],
  "metadata": {
    "kernelspec": {
      "display_name": "Python 3",
      "language": "python",
      "name": "python3"
    },
    "language_info": {
      "codemirror_mode": {
        "name": "ipython",
        "version": 3
      },
      "file_extension": ".py",
      "mimetype": "text/x-python",
      "name": "python",
      "nbconvert_exporter": "python",
      "pygments_lexer": "ipython3",
      "version": "3.13.7"
    }
  },
  "nbformat": 4,
  "nbformat_minor": 0
}