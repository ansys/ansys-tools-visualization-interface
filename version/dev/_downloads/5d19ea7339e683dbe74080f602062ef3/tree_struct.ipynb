{
  "cells": [
    {
      "cell_type": "markdown",
      "metadata": {},
      "source": [
        "\n\n# MeshObjectPlot tree structure\n\nThis example shows how to add a tree structure of MeshObjectPlot to the plotter.\n"
      ]
    },
    {
      "cell_type": "code",
      "execution_count": null,
      "metadata": {
        "collapsed": false
      },
      "outputs": [],
      "source": [
        "import pyvista as pv\nfrom ansys.tools.visualization_interface import Plotter\n\nclass CustomObject:\n    def __init__(self):\n        self.name = \"CustomObject\"\n        self.mesh = pv.Cube(center=(1, 1, 0))\n\n    def get_mesh(self):\n        return self.mesh\n\n    def name(self):\n        return self.name\n\n\n\n# Create a custom objects\ncustom_cube = CustomObject()\ncustom_cube.name = \"CustomCube\"\n\ncustom_sphere = CustomObject()\ncustom_sphere.mesh = pv.Sphere(center=(0, 0, 5))\ncustom_sphere.name = \"CustomSphere\"\n\ncustom_sphere1 = CustomObject()\ncustom_sphere1.mesh = pv.Sphere(center=(5, 0, 5))\ncustom_sphere1.name = \"CustomSphere\"\n\nfrom ansys.tools.visualization_interface import MeshObjectPlot\n\n# Create an instance\nmesh_object_cube = MeshObjectPlot(custom_cube, custom_cube.get_mesh())\nmesh_object_sphere = MeshObjectPlot(custom_sphere, custom_sphere.get_mesh())\nmesh_object_sphere1 = MeshObjectPlot(custom_sphere1, custom_sphere1.get_mesh())\n\nmesh_object_cube.add_child(mesh_object_sphere)\nmesh_object_sphere.add_child(mesh_object_sphere1)\n\npl = Plotter()\npl.plot(mesh_object_cube, plot_children=True)\n\n\npl.backend._pl.hide_children(mesh_object_cube)\npl.show()"
      ]
    }
  ],
  "metadata": {
    "kernelspec": {
      "display_name": "Python 3",
      "language": "python",
      "name": "python3"
    },
    "language_info": {
      "codemirror_mode": {
        "name": "ipython",
        "version": 3
      },
      "file_extension": ".py",
      "mimetype": "text/x-python",
      "name": "python",
      "nbconvert_exporter": "python",
      "pygments_lexer": "ipython3",
      "version": "3.13.7"
    }
  },
  "nbformat": 4,
  "nbformat_minor": 0
}