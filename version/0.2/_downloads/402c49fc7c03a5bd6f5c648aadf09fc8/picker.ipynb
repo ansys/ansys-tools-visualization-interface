{
  "cells": [
    {
      "cell_type": "markdown",
      "metadata": {},
      "source": [
        "\n\n# Activate the picker\n\nThis example shows how to activate the picker, which is the tool that you\nuse to select an object in the plotter and get its name.\n"
      ]
    },
    {
      "cell_type": "markdown",
      "metadata": {},
      "source": [
        "## Relate ``CustomObject`` class with a PyVista mesh\n\n"
      ]
    },
    {
      "cell_type": "code",
      "execution_count": null,
      "metadata": {
        "collapsed": false
      },
      "outputs": [],
      "source": [
        "import pyvista as pv\n\n# Note that the ``CustomObject`` class must have a way to get the mesh\n# and a name or ID.\n\nclass CustomObject:\n    def __init__(self):\n        self.name = \"CustomObject\"\n        self.mesh = pv.Cube()\n\n    def get_mesh(self):\n        return self.mesh\n\n    def name(self):\n        return self.name\n\n# Create a custom object\ncustom_object = CustomObject()"
      ]
    },
    {
      "cell_type": "markdown",
      "metadata": {},
      "source": [
        "## Create a ``MeshObjectPlot`` instance\n\n"
      ]
    },
    {
      "cell_type": "code",
      "execution_count": null,
      "metadata": {
        "collapsed": false
      },
      "outputs": [],
      "source": [
        "from ansys.tools.visualization_interface import MeshObjectPlot\n\n# Create an instance\nmesh_object = MeshObjectPlot(custom_object, custom_object.get_mesh())"
      ]
    },
    {
      "cell_type": "markdown",
      "metadata": {},
      "source": [
        "## Plot the ``MeshObjectPlot`` instance\n\n"
      ]
    },
    {
      "cell_type": "code",
      "execution_count": null,
      "metadata": {
        "collapsed": false
      },
      "outputs": [],
      "source": [
        "from ansys.tools.visualization_interface import Plotter\nfrom ansys.tools.visualization_interface.backends.pyvista import PyVistaBackend\n\npv_backend = PyVistaBackend(allow_picking=True)\npl = Plotter(backend=pv_backend)\npl.plot(mesh_object)\npl.show()"
      ]
    }
  ],
  "metadata": {
    "kernelspec": {
      "display_name": "Python 3",
      "language": "python",
      "name": "python3"
    },
    "language_info": {
      "codemirror_mode": {
        "name": "ipython",
        "version": 3
      },
      "file_extension": ".py",
      "mimetype": "text/x-python",
      "name": "python",
      "nbconvert_exporter": "python",
      "pygments_lexer": "ipython3",
      "version": "3.10.14"
    }
  },
  "nbformat": 4,
  "nbformat_minor": 0
}