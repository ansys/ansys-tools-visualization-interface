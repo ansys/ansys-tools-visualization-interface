{
  "cells": [
    {
      "cell_type": "markdown",
      "metadata": {},
      "source": [
        "\n\n# Plain usage of the plotly backend\n\nThis example shows the plain usage of the Plotly backend in the Visualization Interface Tool to plot different objects,\nincluding PyVista meshes, custom objects, and Plotly-specific objects.\n"
      ]
    },
    {
      "cell_type": "code",
      "execution_count": null,
      "metadata": {
        "collapsed": false
      },
      "outputs": [],
      "source": [
        "from ansys.tools.visualization_interface.backends.plotly.plotly_interface import PlotlyBackend\nfrom ansys.tools.visualization_interface.types.mesh_object_plot import MeshObjectPlot\nfrom ansys.tools.visualization_interface import Plotter\nimport pyvista as pv\nfrom plotly.graph_objects import Mesh3d\n\n\n# Create a plotter with the Plotly backend\npl = Plotter(backend=PlotlyBackend())\n\n# Create a PyVista mesh\nmesh = pv.Sphere()\n\n# Plot the mesh\npl.plot(mesh)\n\n\n# Create a PyVista MultiBlock\nmulti_block = pv.MultiBlock()\nmulti_block.append(pv.Sphere(center=(-1, -1, 0)))\nmulti_block.append(pv.Cube(center=(-1, 1, 0)))\n\n# Plot the MultiBlock\npl.plot(multi_block)\n\n# Display the plotter\n\npl.show()"
      ]
    },
    {
      "cell_type": "markdown",
      "metadata": {},
      "source": [
        "## Now create a custom object\n\n"
      ]
    },
    {
      "cell_type": "code",
      "execution_count": null,
      "metadata": {
        "collapsed": false
      },
      "outputs": [],
      "source": [
        "class CustomObject:\n    def __init__(self):\n        self.name = \"CustomObject\"\n        self.mesh = pv.Cube(center=(1, 1, 0))\n\n    def get_mesh(self):\n        return self.mesh\n\n    def name(self):\n        return self.name\n\n\n# Create a custom object\ncustom_cube = CustomObject()\ncustom_cube.name = \"CustomCube\"\n\n# Create a MeshObjectPlot instance\nmesh_object_cube = MeshObjectPlot(custom_cube, custom_cube.get_mesh())\n\n# Plot the custom mesh object\npl.plot(mesh_object_cube)"
      ]
    },
    {
      "cell_type": "markdown",
      "metadata": {},
      "source": [
        "## Display the plotter again\nSince Plotly is a web-based visualization, we can show the plot again to include the new object.\n\n"
      ]
    },
    {
      "cell_type": "code",
      "execution_count": null,
      "metadata": {
        "collapsed": false
      },
      "outputs": [],
      "source": [
        "pl.show()"
      ]
    },
    {
      "cell_type": "markdown",
      "metadata": {},
      "source": [
        "## Add a Plotly Mesh3d object directly\n\n"
      ]
    },
    {
      "cell_type": "code",
      "execution_count": null,
      "metadata": {
        "collapsed": false
      },
      "outputs": [],
      "source": [
        "custom_mesh3d = Mesh3d(\n    x=[0, 1, 2],\n    y=[0, 1, 0],\n    z=[0, 0, 1],\n    i=[0],\n    j=[1],\n    k=[2],\n    color='lightblue',\n    opacity=0.50\n)\npl.plot(custom_mesh3d)\n\n# Show other plotly objects like Scatter3d\nfrom plotly.graph_objects import Scatter3d\n\nscatter = Scatter3d(\n    x=[0, 1, 2],\n    y=[0, 1, 0],\n    z=[0, 0, 1],\n    mode='markers',\n    marker=dict(size=5, color='red')\n)\npl.plot(scatter)\n\npl.show()"
      ]
    }
  ],
  "metadata": {
    "kernelspec": {
      "display_name": "Python 3",
      "language": "python",
      "name": "python3"
    },
    "language_info": {
      "codemirror_mode": {
        "name": "ipython",
        "version": 3
      },
      "file_extension": ".py",
      "mimetype": "text/x-python",
      "name": "python",
      "nbconvert_exporter": "python",
      "pygments_lexer": "ipython3",
      "version": "3.13.8"
    }
  },
  "nbformat": 4,
  "nbformat_minor": 0
}