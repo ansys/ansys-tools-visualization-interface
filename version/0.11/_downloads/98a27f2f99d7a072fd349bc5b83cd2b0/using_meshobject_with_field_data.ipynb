{
  "cells": [
    {
      "cell_type": "markdown",
      "metadata": {},
      "source": [
        "\n\n# Postprocessing simulation results using the ``MeshObjectPlot`` class\n\nThe Visualization Interface Tool provides the ``MeshObject`` helper class to relate a custom object.\nWith a custom object, you can take advantage of the full potential of the Visualization Interface Tool.\n\nThis example shows how to use the ``MeshObjectPlot`` class to plot your custom objects with scalar data on mesh.\n"
      ]
    },
    {
      "cell_type": "markdown",
      "metadata": {},
      "source": [
        "## Necessary imports\n\n"
      ]
    },
    {
      "cell_type": "code",
      "execution_count": null,
      "metadata": {
        "collapsed": false
      },
      "outputs": [],
      "source": [
        "from ansys.fluent.core import examples\nimport pyvista as pv\n\nfrom ansys.tools.visualization_interface.backends.pyvista import PyVistaBackend\nfrom ansys.tools.visualization_interface import MeshObjectPlot, Plotter"
      ]
    },
    {
      "cell_type": "markdown",
      "metadata": {},
      "source": [
        "## Download the VTK file\n\nA VTK dataset can be produced utilizing [PyDPF](https://dpf.docs.pyansys.com/version/stable/)\nfor Ansys Flagship products simulations results file format.\n\n"
      ]
    },
    {
      "cell_type": "code",
      "execution_count": null,
      "metadata": {
        "collapsed": false
      },
      "outputs": [],
      "source": [
        "mixing_elbow_file_src = examples.download_file(\"mixing_elbow.vtk\", \"result_files/fluent-mixing_elbow_steady-state\")"
      ]
    },
    {
      "cell_type": "markdown",
      "metadata": {},
      "source": [
        "## Define a custom object class\n\nNote that the ``CustomObject`` class must have a way to get the mesh\nand a name or ID.\n\n"
      ]
    },
    {
      "cell_type": "code",
      "execution_count": null,
      "metadata": {
        "collapsed": false
      },
      "outputs": [],
      "source": [
        "class CustomObject:\n    def __init__(self):\n        self.name = \"CustomObject\"\n        self.mesh = pv.read(mixing_elbow_file_src)\n\n    def get_mesh(self):\n        return self.mesh\n\n    def get_field_array_info(self):\n        return self.mesh.array_names\n\n    def name(self):\n        return self.name\n\n\n# Create a custom object\ncustom_vtk = CustomObject()"
      ]
    },
    {
      "cell_type": "markdown",
      "metadata": {},
      "source": [
        "## Create a ``MeshObjectPlot`` instance\n\n"
      ]
    },
    {
      "cell_type": "code",
      "execution_count": null,
      "metadata": {
        "collapsed": false
      },
      "outputs": [],
      "source": [
        "mesh_object = MeshObjectPlot(custom_vtk, custom_vtk.get_mesh())\n\n# Define the camera position\ncpos = (\n    (-0.3331763564757694, 0.08802797061044923, -1.055269197114142),\n    (0.08813476356878325, -0.03975174212669032, -0.012819952697089087),\n    (0.045604530283921085, 0.9935979348314435, 0.10336039239608838),\n)"
      ]
    },
    {
      "cell_type": "markdown",
      "metadata": {},
      "source": [
        "## Get the available field data arrays\n\n"
      ]
    },
    {
      "cell_type": "code",
      "execution_count": null,
      "metadata": {
        "collapsed": false
      },
      "outputs": [],
      "source": [
        "field_data_arrays = custom_vtk.get_field_array_info()\nprint(f\"Field data arrays: {field_data_arrays}\")"
      ]
    },
    {
      "cell_type": "markdown",
      "metadata": {},
      "source": [
        "## Plot the ``MeshObjectPlot`` instance with mesh object & field data (0)\n\n"
      ]
    },
    {
      "cell_type": "code",
      "execution_count": null,
      "metadata": {
        "collapsed": false
      },
      "outputs": [],
      "source": [
        "pv_backend = PyVistaBackend()\npl = Plotter(backend=pv_backend)\npl.plot(\n    mesh_object,\n    scalars=field_data_arrays[0],\n    show_edges=True,\n    show_scalar_bar=True,\n)\npl._backend.pv_interface.scene.camera_position = cpos\npl.show()"
      ]
    },
    {
      "cell_type": "markdown",
      "metadata": {},
      "source": [
        "## Plot the ``MeshObjectPlot`` instance with mesh object & other field data (1)\n\n"
      ]
    },
    {
      "cell_type": "code",
      "execution_count": null,
      "metadata": {
        "collapsed": false
      },
      "outputs": [],
      "source": [
        "pv_backend = PyVistaBackend()\npl = Plotter(backend=pv_backend)\npl.plot(\n    mesh_object,\n    scalars=field_data_arrays[1],\n    show_edges=True,\n    show_scalar_bar=True,\n)\npl._backend.pv_interface.scene.camera_position = cpos\npl.show()"
      ]
    }
  ],
  "metadata": {
    "kernelspec": {
      "display_name": "Python 3",
      "language": "python",
      "name": "python3"
    },
    "language_info": {
      "codemirror_mode": {
        "name": "ipython",
        "version": 3
      },
      "file_extension": ".py",
      "mimetype": "text/x-python",
      "name": "python",
      "nbconvert_exporter": "python",
      "pygments_lexer": "ipython3",
      "version": "3.13.5"
    }
  },
  "nbformat": 4,
  "nbformat_minor": 0
}