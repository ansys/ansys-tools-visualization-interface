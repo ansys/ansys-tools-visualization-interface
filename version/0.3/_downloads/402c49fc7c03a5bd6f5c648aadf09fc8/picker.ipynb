{
  "cells": [
    {
      "cell_type": "markdown",
      "metadata": {},
      "source": [
        "\n\n# Activate the picker\n\nThis example shows how to activate the picker, which is the tool that you\nuse to select an object in the plotter and get its name.\n"
      ]
    },
    {
      "cell_type": "markdown",
      "metadata": {},
      "source": [
        "## Relate ``CustomObject`` class with a PyVista mesh\n\n"
      ]
    },
    {
      "cell_type": "code",
      "execution_count": null,
      "metadata": {
        "collapsed": false
      },
      "outputs": [],
      "source": [
        "import pyvista as pv\n\n# Note that the ``CustomObject`` class must have a way to get the mesh\n# and a name or ID.\n\nclass CustomObject:\n    def __init__(self):\n        self.name = \"CustomObject\"\n        self.mesh = pv.Cube(center=(1, 1, 0))\n\n    def get_mesh(self):\n        return self.mesh\n\n    def name(self):\n        return self.name\n\n\n\n# Create a custom object\ncustom_cube = CustomObject()\ncustom_cube.name = \"CustomCube\"\ncustom_sphere = CustomObject()\ncustom_sphere.mesh = pv.Sphere(center=(0, 0, 5))\ncustom_sphere.name = \"CustomSphere\""
      ]
    },
    {
      "cell_type": "markdown",
      "metadata": {},
      "source": [
        "## Create two ``MeshObjectPlot`` instances\n\n"
      ]
    },
    {
      "cell_type": "code",
      "execution_count": null,
      "metadata": {
        "collapsed": false
      },
      "outputs": [],
      "source": [
        "from ansys.tools.visualization_interface import MeshObjectPlot\n\n# Create an instance\nmesh_object_cube = MeshObjectPlot(custom_cube, custom_cube.get_mesh())\nmesh_object_sphere = MeshObjectPlot(custom_sphere, custom_sphere.get_mesh())"
      ]
    },
    {
      "cell_type": "markdown",
      "metadata": {},
      "source": [
        "## Activate the picking capabilities\n\n"
      ]
    },
    {
      "cell_type": "code",
      "execution_count": null,
      "metadata": {
        "collapsed": false
      },
      "outputs": [],
      "source": [
        "from ansys.tools.visualization_interface import Plotter\nfrom ansys.tools.visualization_interface.backends.pyvista import PyVistaBackend\n\npv_backend = PyVistaBackend(allow_picking=True, plot_picked_names=True)\npl = Plotter(backend=pv_backend)\npl.plot(mesh_object_cube)\npl.plot(mesh_object_sphere)\npl.show()"
      ]
    },
    {
      "cell_type": "markdown",
      "metadata": {},
      "source": [
        "## Activate the hover capabilities\n\n"
      ]
    },
    {
      "cell_type": "code",
      "execution_count": null,
      "metadata": {
        "collapsed": false
      },
      "outputs": [],
      "source": [
        "from ansys.tools.visualization_interface import Plotter\nfrom ansys.tools.visualization_interface.backends.pyvista import PyVistaBackend\n\npv_backend = PyVistaBackend(allow_hovering=True)\npl = Plotter(backend=pv_backend)\npl.plot(mesh_object_cube)\npl.plot(mesh_object_sphere)\npl.show()"
      ]
    }
  ],
  "metadata": {
    "kernelspec": {
      "display_name": "Python 3",
      "language": "python",
      "name": "python3"
    },
    "language_info": {
      "codemirror_mode": {
        "name": "ipython",
        "version": 3
      },
      "file_extension": ".py",
      "mimetype": "text/x-python",
      "name": "python",
      "nbconvert_exporter": "python",
      "pygments_lexer": "ipython3",
      "version": "3.10.14"
    }
  },
  "nbformat": 4,
  "nbformat_minor": 0
}