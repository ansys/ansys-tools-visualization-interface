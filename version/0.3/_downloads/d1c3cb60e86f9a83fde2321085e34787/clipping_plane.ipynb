{
  "cells": [
    {
      "cell_type": "markdown",
      "metadata": {},
      "source": [
        "\n\n# Use a clipping plane\n\nThis example shows how to use a clipping plane in the Visualization Interface Tool to cut a mesh.\n"
      ]
    },
    {
      "cell_type": "code",
      "execution_count": null,
      "metadata": {
        "collapsed": false
      },
      "outputs": [],
      "source": [
        "import pyvista as pv\n\nfrom ansys.tools.visualization_interface import ClipPlane, Plotter\n\nmesh = pv.Cylinder()"
      ]
    },
    {
      "cell_type": "markdown",
      "metadata": {},
      "source": [
        "## Create a plotter and clip the mesh\n\n"
      ]
    },
    {
      "cell_type": "code",
      "execution_count": null,
      "metadata": {
        "collapsed": false
      },
      "outputs": [],
      "source": [
        "pl = Plotter()\n\n# Create a clipping plane\nclipping_plane = ClipPlane(normal=(1, 0, 0), origin=(0, 0, 0))\n\n# Add the mesh to the plotter with the clipping plane\npl.plot(mesh, clipping_plane=clipping_plane)\npl.show()"
      ]
    }
  ],
  "metadata": {
    "kernelspec": {
      "display_name": "Python 3",
      "language": "python",
      "name": "python3"
    },
    "language_info": {
      "codemirror_mode": {
        "name": "ipython",
        "version": 3
      },
      "file_extension": ".py",
      "mimetype": "text/x-python",
      "name": "python",
      "nbconvert_exporter": "python",
      "pygments_lexer": "ipython3",
      "version": "3.10.14"
    }
  },
  "nbformat": 4,
  "nbformat_minor": 0
}