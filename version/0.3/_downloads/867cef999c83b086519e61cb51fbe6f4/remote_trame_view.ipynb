{
  "cells": [
    {
      "cell_type": "markdown",
      "metadata": {},
      "source": [
        "\n\n# Use trame as a remote service\n\nThis example shows how to launch a trame service and use it as a remote service.\n\nFirst, we need to launch the trame service. We can do this by running the following code::\n\n    # import required libraries\n    from ansys.tools.visualization_interface.backends.pyvista.trame_service import (\n        TrameService,\n    )\n\n    # create a trame service, in whatever port is available in your system\n    ts = TrameService(websocket_port=8765)\n\n    # run the service\n    ts.run()\n\n\nNow, we can send meshes and plotter to the trame service. We can do this by running the following code in a separate terminal::\n\n    # import required libraries\n    import time\n\n    import pyvista as pv\n\n    from ansys.tools.visualization_interface.backends.pyvista.trame_remote import (\n        send_mesh,\n        send_pl,\n    )\n\n    # create an example plotter\n    plotter = pv.Plotter()\n    plotter.add_mesh(pv.Cube())\n\n    # send some example meshes\n    send_mesh(pv.Sphere())\n    send_mesh(pv.Sphere(center=(3, 0, 0)))\n    time.sleep(4)\n\n    # if we send a plotter, the previous meshes will be deleted.\n    send_pl(plotter)\n"
      ]
    }
  ],
  "metadata": {
    "kernelspec": {
      "display_name": "Python 3",
      "language": "python",
      "name": "python3"
    },
    "language_info": {
      "codemirror_mode": {
        "name": "ipython",
        "version": 3
      },
      "file_extension": ".py",
      "mimetype": "text/x-python",
      "name": "python",
      "nbconvert_exporter": "python",
      "pygments_lexer": "ipython3",
      "version": "3.10.14"
    }
  },
  "nbformat": 4,
  "nbformat_minor": 0
}