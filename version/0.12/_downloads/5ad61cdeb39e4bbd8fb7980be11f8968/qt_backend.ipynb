{
  "cells": [
    {
      "cell_type": "markdown",
      "metadata": {},
      "source": [
        "\n\n# Use a PyVista Qt backend\n\nPyVista Qt is a package that extends the PyVista functionality through the\nusage of Qt. Qt applications operate in a separate thread than VTK, you can\nsimultaneously have an active VTK plot and a non-blocking Python session.\n\nThis example shows how to use the PyVista Qt backend to create a plotter\n"
      ]
    },
    {
      "cell_type": "code",
      "execution_count": null,
      "metadata": {
        "collapsed": false
      },
      "outputs": [],
      "source": [
        "import pyvista as pv\n\nfrom ansys.tools.visualization_interface import Plotter\nfrom ansys.tools.visualization_interface.backends.pyvista import PyVistaBackend"
      ]
    },
    {
      "cell_type": "markdown",
      "metadata": {},
      "source": [
        "## Open a pyvistaqt window\n```python\ncube = pv.Cube()\npv_backend = PyVistaBackend(use_qt=True, show_qt=True)\npl = Plotter(backend=pv_backend)\npl.plot(cube)\npl.backend.enable_widgets()\npv_backend.scene.show()\n```\n"
      ]
    },
    {
      "cell_type": "markdown",
      "metadata": {},
      "source": [
        "## Parallel VTK window\n\n"
      ]
    },
    {
      "cell_type": "code",
      "execution_count": null,
      "metadata": {
        "collapsed": false
      },
      "outputs": [],
      "source": [
        "sphere = pv.Sphere()\n\npl_parallel = Plotter()\npl_parallel.plot(sphere)\npl_parallel.show()"
      ]
    },
    {
      "cell_type": "markdown",
      "metadata": {},
      "source": [
        "## Close the pyvistaqt window\n```python\npv_backend.close()\n```\n"
      ]
    },
    {
      "cell_type": "markdown",
      "metadata": {},
      "source": [
        "## Integrate the plotter in a Qt application\n```python\npv_backend = PyVistaBackend(use_qt=True, show_qt=False)\npv_backend.enable_widgets()\n\n# You can use this plotter in a Qt application\npl = pv_backend.scene\n```\n"
      ]
    }
  ],
  "metadata": {
    "kernelspec": {
      "display_name": "Python 3",
      "language": "python",
      "name": "python3"
    },
    "language_info": {
      "codemirror_mode": {
        "name": "ipython",
        "version": 3
      },
      "file_extension": ".py",
      "mimetype": "text/x-python",
      "name": "python",
      "nbconvert_exporter": "python",
      "pygments_lexer": "ipython3",
      "version": "3.13.7"
    }
  },
  "nbformat": 4,
  "nbformat_minor": 0
}